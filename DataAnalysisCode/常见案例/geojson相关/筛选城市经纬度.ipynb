{
 "cells": [
  {
   "cell_type": "code",
   "execution_count": 1,
   "metadata": {},
   "outputs": [],
   "source": [
    "import csv\n",
    "import pandas as pd\n",
    "from pandas import DataFrame,Series"
   ]
  },
  {
   "cell_type": "code",
   "execution_count": 2,
   "metadata": {},
   "outputs": [],
   "source": [
    "import numpy"
   ]
  },
  {
   "cell_type": "code",
   "execution_count": 6,
   "metadata": {},
   "outputs": [],
   "source": [
    "with open('./经纬度表.txt','r') as f:\n",
    "    lines = f.readlines()\n",
    "    city=['北京市','上海市','广州市','深圳市','成都市','杭州市','武汉市','重庆市','南京市','天津市','苏州市','西安市','长沙市','沈阳市','青岛市','郑州市','大连市','东莞市','宁波市','厦门市','福州市','无锡市','合肥市','昆明市','哈尔滨市','济南市','长春市','温州市','石家庄市','南宁市','常州市','南昌市','贵阳市','太原市','烟台市','南通市','珠海市','徐州市','海口市']"
   ]
  },
  {
   "cell_type": "code",
   "execution_count": null,
   "metadata": {},
   "outputs": [],
   "source": []
  }
 ],
 "metadata": {
  "kernelspec": {
   "display_name": "Python 3",
   "language": "python",
   "name": "python3"
  },
  "language_info": {
   "codemirror_mode": {
    "name": "ipython",
    "version": 3
   },
   "file_extension": ".py",
   "mimetype": "text/x-python",
   "name": "python",
   "nbconvert_exporter": "python",
   "pygments_lexer": "ipython3",
   "version": "3.5.2"
  }
 },
 "nbformat": 4,
 "nbformat_minor": 2
}
