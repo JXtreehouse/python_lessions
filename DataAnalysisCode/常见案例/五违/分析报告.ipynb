{
 "cells": [
  {
   "cell_type": "code",
   "execution_count": null,
   "metadata": {
    "scrolled": true
   },
   "outputs": [],
   "source": [
    "%matplotlib inline\n",
    "%reload_ext autoreload\n",
    "%autoreload 2\n",
    "\n",
    "from __future__ import division\n",
    "from import_file import *\n",
    "load_libs()\n",
    "set_chinese_font()"
   ]
  },
  {
   "cell_type": "code",
   "execution_count": 1,
   "metadata": {},
   "outputs": [
    {
     "data": {
      "text/plain": [
       "'/usr/bin/python3'"
      ]
     },
     "execution_count": 1,
     "metadata": {},
     "output_type": "execute_result"
    }
   ],
   "source": [
    "import sys\n",
    "sys.executable"
   ]
  },
  {
   "cell_type": "markdown",
   "metadata": {},
   "source": [
    "# 1.Data Wrangling"
   ]
  },
  {
   "cell_type": "code",
   "execution_count": 8,
   "metadata": {},
   "outputs": [],
   "source": [
    "\n",
    "import pandas as pd\n",
    "df = pd.read_excel('data/违法建筑.xls') "
   ]
  },
  {
   "cell_type": "code",
   "execution_count": 9,
   "metadata": {},
   "outputs": [
    {
     "data": {
      "text/html": [
       "<div>\n",
       "<style scoped>\n",
       "    .dataframe tbody tr th:only-of-type {\n",
       "        vertical-align: middle;\n",
       "    }\n",
       "\n",
       "    .dataframe tbody tr th {\n",
       "        vertical-align: top;\n",
       "    }\n",
       "\n",
       "    .dataframe thead th {\n",
       "        text-align: right;\n",
       "    }\n",
       "</style>\n",
       "<table border=\"1\" class=\"dataframe\">\n",
       "  <thead>\n",
       "    <tr style=\"text-align: right;\">\n",
       "      <th></th>\n",
       "      <th></th>\n",
       "      <th>用地编码</th>\n",
       "      <th>建筑面积（平方米）</th>\n",
       "      <th>土地面积</th>\n",
       "      <th>绘制面积</th>\n",
       "      <th>整治情况</th>\n",
       "      <th>整治方案</th>\n",
       "      <th>街镇编码</th>\n",
       "      <th>点位数</th>\n",
       "      <th>图层</th>\n",
       "    </tr>\n",
       "  </thead>\n",
       "  <tbody>\n",
       "    <tr>\n",
       "      <th>count</th>\n",
       "      <td>14530.000000</td>\n",
       "      <td>1.453000e+04</td>\n",
       "      <td>14527.000000</td>\n",
       "      <td>3763.000000</td>\n",
       "      <td>1.278500e+04</td>\n",
       "      <td>0.0</td>\n",
       "      <td>0.0</td>\n",
       "      <td>14530.000000</td>\n",
       "      <td>1416.000000</td>\n",
       "      <td>14530.00000</td>\n",
       "    </tr>\n",
       "    <tr>\n",
       "      <th>mean</th>\n",
       "      <td>7265.500000</td>\n",
       "      <td>1.894545e+09</td>\n",
       "      <td>1282.646413</td>\n",
       "      <td>596.013548</td>\n",
       "      <td>1.437426e+03</td>\n",
       "      <td>NaN</td>\n",
       "      <td>NaN</td>\n",
       "      <td>15104.471370</td>\n",
       "      <td>81.742232</td>\n",
       "      <td>1.21755</td>\n",
       "    </tr>\n",
       "    <tr>\n",
       "      <th>std</th>\n",
       "      <td>4194.594041</td>\n",
       "      <td>6.943762e+08</td>\n",
       "      <td>7128.664960</td>\n",
       "      <td>4326.898243</td>\n",
       "      <td>8.799320e+04</td>\n",
       "      <td>NaN</td>\n",
       "      <td>NaN</td>\n",
       "      <td>43.980247</td>\n",
       "      <td>181.990368</td>\n",
       "      <td>0.60428</td>\n",
       "    </tr>\n",
       "    <tr>\n",
       "      <th>min</th>\n",
       "      <td>1.000000</td>\n",
       "      <td>1.500400e+07</td>\n",
       "      <td>0.000000</td>\n",
       "      <td>0.000000</td>\n",
       "      <td>6.600000e-01</td>\n",
       "      <td>NaN</td>\n",
       "      <td>NaN</td>\n",
       "      <td>15004.000000</td>\n",
       "      <td>0.000000</td>\n",
       "      <td>1.00000</td>\n",
       "    </tr>\n",
       "    <tr>\n",
       "      <th>25%</th>\n",
       "      <td>3633.250000</td>\n",
       "      <td>2.150160e+09</td>\n",
       "      <td>28.000000</td>\n",
       "      <td>0.000000</td>\n",
       "      <td>2.381500e+01</td>\n",
       "      <td>NaN</td>\n",
       "      <td>NaN</td>\n",
       "      <td>15103.000000</td>\n",
       "      <td>13.000000</td>\n",
       "      <td>1.00000</td>\n",
       "    </tr>\n",
       "    <tr>\n",
       "      <th>50%</th>\n",
       "      <td>7265.500000</td>\n",
       "      <td>2.151103e+09</td>\n",
       "      <td>100.000000</td>\n",
       "      <td>23.000000</td>\n",
       "      <td>7.562900e+01</td>\n",
       "      <td>NaN</td>\n",
       "      <td>NaN</td>\n",
       "      <td>15117.000000</td>\n",
       "      <td>40.000000</td>\n",
       "      <td>1.00000</td>\n",
       "    </tr>\n",
       "    <tr>\n",
       "      <th>75%</th>\n",
       "      <td>10897.750000</td>\n",
       "      <td>2.151340e+09</td>\n",
       "      <td>510.285000</td>\n",
       "      <td>170.000000</td>\n",
       "      <td>2.834840e+02</td>\n",
       "      <td>NaN</td>\n",
       "      <td>NaN</td>\n",
       "      <td>15136.000000</td>\n",
       "      <td>102.000000</td>\n",
       "      <td>1.00000</td>\n",
       "    </tr>\n",
       "    <tr>\n",
       "      <th>max</th>\n",
       "      <td>14530.000000</td>\n",
       "      <td>2.151450e+09</td>\n",
       "      <td>291619.090000</td>\n",
       "      <td>214424.000000</td>\n",
       "      <td>9.921421e+06</td>\n",
       "      <td>NaN</td>\n",
       "      <td>NaN</td>\n",
       "      <td>15145.000000</td>\n",
       "      <td>5000.000000</td>\n",
       "      <td>3.00000</td>\n",
       "    </tr>\n",
       "  </tbody>\n",
       "</table>\n",
       "</div>"
      ],
      "text/plain": [
       "                             用地编码      建筑面积（平方米）           土地面积          绘制面积  \\\n",
       "count  14530.000000  1.453000e+04   14527.000000    3763.000000  1.278500e+04   \n",
       "mean    7265.500000  1.894545e+09    1282.646413     596.013548  1.437426e+03   \n",
       "std     4194.594041  6.943762e+08    7128.664960    4326.898243  8.799320e+04   \n",
       "min        1.000000  1.500400e+07       0.000000       0.000000  6.600000e-01   \n",
       "25%     3633.250000  2.150160e+09      28.000000       0.000000  2.381500e+01   \n",
       "50%     7265.500000  2.151103e+09     100.000000      23.000000  7.562900e+01   \n",
       "75%    10897.750000  2.151340e+09     510.285000     170.000000  2.834840e+02   \n",
       "max    14530.000000  2.151450e+09  291619.090000  214424.000000  9.921421e+06   \n",
       "\n",
       "       整治情况  整治方案          街镇编码          点位数           图层  \n",
       "count   0.0   0.0  14530.000000  1416.000000  14530.00000  \n",
       "mean    NaN   NaN  15104.471370    81.742232      1.21755  \n",
       "std     NaN   NaN     43.980247   181.990368      0.60428  \n",
       "min     NaN   NaN  15004.000000     0.000000      1.00000  \n",
       "25%     NaN   NaN  15103.000000    13.000000      1.00000  \n",
       "50%     NaN   NaN  15117.000000    40.000000      1.00000  \n",
       "75%     NaN   NaN  15136.000000   102.000000      1.00000  \n",
       "max     NaN   NaN  15145.000000  5000.000000      3.00000  "
      ]
     },
     "execution_count": 9,
     "metadata": {},
     "output_type": "execute_result"
    }
   ],
   "source": [
    "df.describe()"
   ]
  },
  {
   "cell_type": "code",
   "execution_count": null,
   "metadata": {},
   "outputs": [],
   "source": []
  }
 ],
 "metadata": {
  "kernelspec": {
   "display_name": "Python 3",
   "language": "python",
   "name": "python3"
  },
  "language_info": {
   "codemirror_mode": {
    "name": "ipython",
    "version": 3
   },
   "file_extension": ".py",
   "mimetype": "text/x-python",
   "name": "python",
   "nbconvert_exporter": "python",
   "pygments_lexer": "ipython3",
   "version": "3.5.2"
  }
 },
 "nbformat": 4,
 "nbformat_minor": 2
}
