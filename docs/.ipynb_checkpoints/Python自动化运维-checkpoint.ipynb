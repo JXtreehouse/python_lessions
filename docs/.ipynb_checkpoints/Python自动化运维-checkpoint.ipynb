{
 "cells": [
  {
   "cell_type": "markdown",
   "metadata": {},
   "source": [
    "# 参考教程 & 资料"
   ]
  },
  {
   "cell_type": "markdown",
   "metadata": {},
   "source": [
    "## 自动化运维工具"
   ]
  },
  {
   "cell_type": "markdown",
   "metadata": {},
   "source": [
    "* 部署类：jenkins"
   ]
  },
  {
   "cell_type": "markdown",
   "metadata": {},
   "source": [
    "* 环境类：ansible"
   ]
  },
  {
   "cell_type": "markdown",
   "metadata": {},
   "source": [
    "* 监控类： ngios"
   ]
  },
  {
   "cell_type": "markdown",
   "metadata": {},
   "source": [
    "> *练手代码： 写一个python脚本安装指定版本的python*"
   ]
  },
  {
   "cell_type": "markdown",
   "metadata": {},
   "source": [
    "* 功能需求：1.下载指定版本python源码 2.安装python所需依赖库 3.编译安装python"
   ]
  },
  {
   "cell_type": "markdown",
   "metadata": {},
   "source": [
    "* 思路（伪代码部分）： 判断root -> 等待用户输入python版本-> 执行shell命令下载源码包 -> 安装依赖开发包 -> 编译安装python"
   ]
  },
  {
   "cell_type": "markdown",
   "metadata": {},
   "source": [
    " * 用到的函数："
   ]
  },
  {
   "cell_type": "markdown",
   "metadata": {},
   "source": [
    "[os.system](http://www.manongjc.com/article/976.html)：执行shell命令"
   ]
  },
  {
   "cell_type": "markdown",
   "metadata": {},
   "source": [
    "[raw_input()](http://blog.csdn.net/u012223913/article/details/51958496)： 暂停程序运行，等待用户输入"
   ]
  },
  {
   "cell_type": "code",
   "execution_count": null,
   "metadata": {},
   "outputs": [],
   "source": []
  }
 ],
 "metadata": {
  "kernelspec": {
   "display_name": "Python 3",
   "language": "python",
   "name": "python3"
  },
  "language_info": {
   "codemirror_mode": {
    "name": "ipython",
    "version": 3
   },
   "file_extension": ".py",
   "mimetype": "text/x-python",
   "name": "python",
   "nbconvert_exporter": "python",
   "pygments_lexer": "ipython3",
   "version": "3.5.2"
  }
 },
 "nbformat": 4,
 "nbformat_minor": 2
}
