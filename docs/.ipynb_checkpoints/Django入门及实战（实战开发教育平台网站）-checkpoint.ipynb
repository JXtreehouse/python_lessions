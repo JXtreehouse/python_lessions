{
 "cells": [
  {
   "cell_type": "markdown",
   "metadata": {},
   "source": [
    "# 动态网站"
   ]
  },
  {
   "cell_type": "markdown",
   "metadata": {},
   "source": [
    "交互 --> 数据库 登录验证"
   ]
  },
  {
   "cell_type": "markdown",
   "metadata": {},
   "source": [
    "# 静态网站"
   ]
  },
  {
   "cell_type": "markdown",
   "metadata": {},
   "source": [
    "JS PHP HTML5 不涉及到交互"
   ]
  },
  {
   "cell_type": "markdown",
   "metadata": {},
   "source": [
    "# django"
   ]
  },
  {
   "cell_type": "markdown",
   "metadata": {},
   "source": [
    "# 连接默认数据库　sqlite3"
   ]
  },
  {
   "cell_type": "markdown",
   "metadata": {},
   "source": [
    "[django+mysql的简单开发教程](http://blog.csdn.net/yf999573/article/details/53081196)"
   ]
  },
  {
   "cell_type": "markdown",
   "metadata": {},
   "source": [
    "pip3 install django==1.8.2"
   ]
  },
  {
   "cell_type": "markdown",
   "metadata": {},
   "source": [
    "<img src=\"http://osgp88fat.bkt.clouddn.com/data/2018-02-26%2011-41-21%E5%B1%8F%E5%B9%95%E6%88%AA%E5%9B%BE.png\">"
   ]
  },
  {
   "cell_type": "markdown",
   "metadata": {},
   "source": [
    "<img src=\"http://osgp88fat.bkt.clouddn.com/img/2018-02-26%2012-22-07%E5%B1%8F%E5%B9%95%E6%88%AA%E5%9B%BE.png\"/>"
   ]
  },
  {
   "cell_type": "markdown",
   "metadata": {},
   "source": [
    "`````\n",
    "└── pro\n",
    "    ├── manage.py \n",
    "    └── pro\n",
    "        ├── __init__.py  //声明当前的pro文件夹为一个模块 from pro import settings \n",
    "        ├── settings.py //项目的配置文件\n",
    "        ├── urls.py  //总的路由声明\n",
    "        └── wsgi.py  //wsgi服务器配置文件,apache nginx  提高项目并发量\n",
    "`````"
   ]
  },
  {
   "cell_type": "markdown",
   "metadata": {},
   "source": [
    "开启项目："
   ]
  },
  {
   "cell_type": "markdown",
   "metadata": {},
   "source": [
    "<img src=\"http://osgp88fat.bkt.clouddn.com/img/2018-02-26%2012-41-22%E5%B1%8F%E5%B9%95%E6%88%AA%E5%9B%BE.png\">"
   ]
  },
  {
   "cell_type": "markdown",
   "metadata": {},
   "source": [
    "<img src=\"http://osgp88fat.bkt.clouddn.com/data/2018-02-26%2012-50-41%E5%B1%8F%E5%B9%95%E6%88%AA%E5%9B%BE.png\" />"
   ]
  },
  {
   "cell_type": "markdown",
   "metadata": {},
   "source": [
    "<img src=\"http://osgp88fat.bkt.clouddn.com/img/2018-02-26%2012-54-44%E5%B1%8F%E5%B9%95%E6%88%AA%E5%9B%BE.png\">"
   ]
  },
  {
   "cell_type": "markdown",
   "metadata": {},
   "source": [
    "<img src=\"http://osgp88fat.bkt.clouddn.com/img/2018-02-26%2012-55-09%E5%B1%8F%E5%B9%95%E6%88%AA%E5%9B%BE.png\"/>"
   ]
  },
  {
   "cell_type": "markdown",
   "metadata": {},
   "source": [
    "开启了测试服务器，压力负载很小，500左右"
   ]
  },
  {
   "cell_type": "markdown",
   "metadata": {},
   "source": [
    "admin：django项目提供的一个后台数据库管理界面"
   ]
  },
  {
   "cell_type": "markdown",
   "metadata": {},
   "source": [
    "## 配置数据库"
   ]
  },
  {
   "cell_type": "markdown",
   "metadata": {},
   "source": [
    "```sqlite3\n",
    "# Database\n",
    "# https://docs.djangoproject.com/en/1.8/ref/settings/#databases\n",
    "\n",
    "DATABASES = {\n",
    "    'default': {\n",
    "        'ENGINE': 'django.db.backends.sqlite3',\n",
    "        'NAME': os.path.join(BASE_DIR, 'db.sqlite3'),\n",
    "    }\n",
    "}\n",
    "```"
   ]
  },
  {
   "cell_type": "markdown",
   "metadata": {},
   "source": [
    "```MySQL\n",
    "# Database\n",
    "# https://docs.djangoproject.com/en/1.8/ref/settings/#databases\n",
    "\n",
    "DATABASES = {\n",
    "    'default': {\n",
    "        'ENGINE': 'django.db.backends.mysql',\n",
    "        'NAME': 'koa_demo',\n",
    "        'USER': 'root',\n",
    "        'PASSWORD': 'wyc2016',\n",
    "        'HOST': '127.0.01',\n",
    "        'PORT': '3306'\n",
    "    }\n",
    "}\n",
    "```"
   ]
  },
  {
   "cell_type": "markdown",
   "metadata": {},
   "source": [
    "## 数据库生成命令"
   ]
  },
  {
   "cell_type": "markdown",
   "metadata": {},
   "source": [
    "makemigrations:执行检查数据库差异，生成迁移文件"
   ]
  },
  {
   "cell_type": "markdown",
   "metadata": {},
   "source": [
    "migrate: 根据迁移文件生成对应的ＳＱＬ语句"
   ]
  },
  {
   "cell_type": "markdown",
   "metadata": {},
   "source": [
    "django默认的自带了一些数据库内容"
   ]
  },
  {
   "cell_type": "markdown",
   "metadata": {},
   "source": [
    "<img src=\"http://osgp88fat.bkt.clouddn.com/2018-02-26%2014-03-29%E5%B1%8F%E5%B9%95%E6%88%AA%E5%9B%BE.png\">"
   ]
  },
  {
   "cell_type": "markdown",
   "metadata": {},
   "source": [
    "# 连接mysql"
   ]
  },
  {
   "cell_type": "markdown",
   "metadata": {},
   "source": [
    "[django 连接mysql 数据库](https://www.cnblogs.com/testway/p/7435328.html)"
   ]
  },
  {
   "cell_type": "markdown",
   "metadata": {},
   "source": [
    "# python3 "
   ]
  },
  {
   "cell_type": "markdown",
   "metadata": {},
   "source": [
    "www.python.org"
   ]
  },
  {
   "cell_type": "markdown",
   "metadata": {},
   "source": [
    "# Sqlite 本地文件 轻量级的数据库"
   ]
  },
  {
   "cell_type": "markdown",
   "metadata": {},
   "source": [
    "# Mysql Oracle"
   ]
  },
  {
   "cell_type": "code",
   "execution_count": null,
   "metadata": {},
   "outputs": [],
   "source": []
  }
 ],
 "metadata": {
  "kernelspec": {
   "display_name": "Python 3",
   "language": "python",
   "name": "python3"
  },
  "language_info": {
   "codemirror_mode": {
    "name": "ipython",
    "version": 3
   },
   "file_extension": ".py",
   "mimetype": "text/x-python",
   "name": "python",
   "nbconvert_exporter": "python",
   "pygments_lexer": "ipython3",
   "version": "3.5.2"
  }
 },
 "nbformat": 4,
 "nbformat_minor": 2
}
