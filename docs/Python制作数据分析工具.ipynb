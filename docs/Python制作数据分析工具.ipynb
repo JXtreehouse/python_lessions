{
 "cells": [
  {
   "cell_type": "markdown",
   "metadata": {},
   "source": [
    "# 参考教程&书籍"
   ]
  },
  {
   "cell_type": "markdown",
   "metadata": {},
   "source": [
    "[慕课网 Python制作数据分析工具](http://www.imooc.com/learn/937)"
   ]
  },
  {
   "cell_type": "markdown",
   "metadata": {},
   "source": [
    "**数据诊断**是数据挖掘和机器学习的第一步，然而却被很多人忽略掉了。\n",
    "如果对数据本身不了解的话，容易受到严谨的业务人的挑战，同时，如果缺少了数据诊断的步骤，会增加后面数据预处理的难度，从而影响最终模型的效果。\n",
    "因此，制作一个高效的，复用性高的，让人更好地理解数据本身的**数据诊断工具**很重要。"
   ]
  },
  {
   "cell_type": "markdown",
   "metadata": {},
   "source": [
    "# 统计指标"
   ]
  },
  {
   "cell_type": "markdown",
   "metadata": {},
   "source": [
    "* 均值/中位数/最大值/最小值"
   ]
  },
  {
   "cell_type": "markdown",
   "metadata": {},
   "source": [
    "* 计数类"
   ]
  },
  {
   "cell_type": "markdown",
   "metadata": {},
   "source": [
    "* 缺失值/方差"
   ]
  },
  {
   "cell_type": "markdown",
   "metadata": {},
   "source": [
    "* 分位点/值的频数等"
   ]
  },
  {
   "cell_type": "markdown",
   "metadata": {},
   "source": [
    "## 计数类"
   ]
  },
  {
   "cell_type": "markdown",
   "metadata": {},
   "source": [
    "### Basic Analysis "
   ]
  },
  {
   "cell_type": "markdown",
   "metadata": {},
   "source": [
    "* **Missing Value  缺失值**"
   ]
  },
  {
   "cell_type": "markdown",
   "metadata": {},
   "source": [
    "```\n",
    "missSet = [np.nan, 999999999999,-9999999]\n",
    "```"
   ]
  },
  {
   "cell_type": "markdown",
   "metadata": {},
   "source": [
    "np.nan numpy里面表示缺失的"
   ]
  },
  {
   "cell_type": "markdown",
   "metadata": {},
   "source": [
    "* **Count distinct**"
   ]
  },
  {
   "cell_type": "markdown",
   "metadata": {},
   "source": [
    "```\n",
    "len(df.iloc[:,0].unique())\n",
    "```"
   ]
  },
  {
   "cell_type": "markdown",
   "metadata": {},
   "source": [
    "```df.iloc[:,0] ```取得了数据集的第一列  （一列数据表示一种特征）"
   ]
  },
  {
   "cell_type": "markdown",
   "metadata": {},
   "source": [
    "`unique()`表示该特征有多少不同的值,效果类似SQL语句：\n",
    "\n",
    "```\n",
    "SELECT DISTINCT column(s) FROM table\n",
    "\n",
    "``` \n",
    "———> 详情戳这里[SQL SELECT DISTINCT 语句](http://www.w3school.com.cn/sql/sql_distinct.asp)"
   ]
  },
  {
   "cell_type": "markdown",
   "metadata": {},
   "source": [
    "`len(df.iloc[:,0].unique())` ：第一个特征不同的值有多少种（个），效果类似SQL语句：\n",
    "\n",
    "```\n",
    "SELECT COUNT(DISTINCT column(s)) FROM table\n",
    "```\n",
    "\n",
    "———> 详情戳这里 [SQL COUNT DISTINCT 函数](http://www.w3school.com.cn/sql/sql_func_count_distinct.asp)"
   ]
  },
  {
   "cell_type": "markdown",
   "metadata": {},
   "source": [
    "```\n",
    "count_un = df.iloc[:,0:3].apply(lambda x: len(x.unique))\n",
    "```\n",
    "对多行进行操作"
   ]
  },
  {
   "cell_type": "markdown",
   "metadata": {},
   "source": [
    "* **Zero Values  多少个值是0**"
   ]
  },
  {
   "cell_type": "markdown",
   "metadata": {},
   "source": [
    "```\n",
    "np.sum(df.iloc[:,0] == 0)\n",
    "\n",
    "```\n",
    "判断每一列的值是否等于0（返回值 true/false） sum（）后就是算出来有多少个true"
   ]
  },
  {
   "cell_type": "markdown",
   "metadata": {},
   "source": [
    "```\n",
    "count_zero = df.iloc[:, 0:3].apply(lambda x:np.sum(x == 0))\n",
    "```"
   ]
  },
  {
   "cell_type": "code",
   "execution_count": null,
   "metadata": {},
   "outputs": [],
   "source": []
  }
 ],
 "metadata": {
  "kernelspec": {
   "display_name": "Python 3",
   "language": "python",
   "name": "python3"
  },
  "language_info": {
   "codemirror_mode": {
    "name": "ipython",
    "version": 3
   },
   "file_extension": ".py",
   "mimetype": "text/x-python",
   "name": "python",
   "nbconvert_exporter": "python",
   "pygments_lexer": "ipython3",
   "version": "3.5.2"
  }
 },
 "nbformat": 4,
 "nbformat_minor": 2
}
