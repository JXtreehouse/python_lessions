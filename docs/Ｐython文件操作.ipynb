{
 "cells": [
  {
   "cell_type": "markdown",
   "metadata": {},
   "source": [
    "# 参考"
   ]
  },
  {
   "cell_type": "markdown",
   "metadata": {},
   "source": [
    "[Python文件处理](https://www.imooc.com/learn/416)"
   ]
  },
  {
   "cell_type": "markdown",
   "metadata": {},
   "source": [
    "# 从json提取数据"
   ]
  },
  {
   "cell_type": "markdown",
   "metadata": {},
   "source": [
    "[Python JSON](http://www.runoob.com/python/python-json.html)"
   ]
  },
  {
   "cell_type": "code",
   "execution_count": 2,
   "metadata": {},
   "outputs": [],
   "source": [
    "import json\n",
    "s = json.loads('{\"name\": \"test\", \"type\":{\"name\": \"seg\",\"parameter\":[\"1\",\"2\"]}}')"
   ]
  },
  {
   "cell_type": "markdown",
   "metadata": {},
   "source": [
    "注意：json.loads()参数必须string"
   ]
  },
  {
   "cell_type": "code",
   "execution_count": 3,
   "metadata": {},
   "outputs": [
    {
     "data": {
      "text/plain": [
       "{'name': 'test', 'type': {'name': 'seg', 'parameter': ['1', '2']}}"
      ]
     },
     "execution_count": 3,
     "metadata": {},
     "output_type": "execute_result"
    }
   ],
   "source": [
    "s"
   ]
  },
  {
   "cell_type": "code",
   "execution_count": 4,
   "metadata": {},
   "outputs": [
    {
     "data": {
      "text/plain": [
       "dict_keys(['type', 'name'])"
      ]
     },
     "execution_count": 4,
     "metadata": {},
     "output_type": "execute_result"
    }
   ],
   "source": [
    "s.keys()"
   ]
  },
  {
   "cell_type": "code",
   "execution_count": 5,
   "metadata": {},
   "outputs": [
    {
     "data": {
      "text/plain": [
       "'test'"
      ]
     },
     "execution_count": 5,
     "metadata": {},
     "output_type": "execute_result"
    }
   ],
   "source": [
    "s[\"name\"]"
   ]
  },
  {
   "cell_type": "code",
   "execution_count": 6,
   "metadata": {},
   "outputs": [
    {
     "data": {
      "text/plain": [
       "'seg'"
      ]
     },
     "execution_count": 6,
     "metadata": {},
     "output_type": "execute_result"
    }
   ],
   "source": [
    "s[\"type\"][\"name\"]"
   ]
  },
  {
   "cell_type": "code",
   "execution_count": 7,
   "metadata": {},
   "outputs": [
    {
     "data": {
      "text/plain": [
       "'2'"
      ]
     },
     "execution_count": 7,
     "metadata": {},
     "output_type": "execute_result"
    }
   ],
   "source": [
    "s[\"type\"][\"parameter\"][1]"
   ]
  },
  {
   "cell_type": "markdown",
   "metadata": {},
   "source": [
    "# python提取网页中json数据"
   ]
  },
  {
   "cell_type": "markdown",
   "metadata": {},
   "source": [
    "[python提取网页中json数据](http://www.cnblogs.com/0x03/p/7329039.html)\n",
    "\n",
    "[Python中urlopen()介绍](https://www.cnblogs.com/zyq-blog/p/5606760.html)\n",
    "\n",
    "Python3官方文档：https://docs.python.org/3/\n",
    "\n",
    "注意：　在python3.3后urllib2已经不能再用，只能用urllib.request来代替"
   ]
  },
  {
   "cell_type": "code",
   "execution_count": 47,
   "metadata": {},
   "outputs": [],
   "source": [
    "from urllib.request import urlopen \n",
    "import json"
   ]
  },
  {
   "cell_type": "code",
   "execution_count": 69,
   "metadata": {},
   "outputs": [
    {
     "name": "stdout",
     "output_type": "stream",
     "text": [
      "/usr/lib/python3.5/urllib/request.py\n"
     ]
    }
   ],
   "source": [
    "print(urllib.request.__file__)"
   ]
  },
  {
   "cell_type": "code",
   "execution_count": 73,
   "metadata": {},
   "outputs": [],
   "source": [
    "#发送用户请求\n",
    "request = urlopen('http://datav.youlishu.com/dataset/json?oid=1001')"
   ]
  },
  {
   "cell_type": "code",
   "execution_count": 74,
   "metadata": {},
   "outputs": [
    {
     "data": {
      "text/plain": [
       "<http.client.HTTPResponse at 0x7fc18c0bb630>"
      ]
     },
     "execution_count": 74,
     "metadata": {},
     "output_type": "execute_result"
    }
   ],
   "source": [
    "request"
   ]
  },
  {
   "cell_type": "code",
   "execution_count": 75,
   "metadata": {},
   "outputs": [],
   "source": [
    "#读取并解码内容\n",
    "html  = request.read().decode(\"utf-8\")"
   ]
  },
  {
   "cell_type": "code",
   "execution_count": 76,
   "metadata": {},
   "outputs": [
    {
     "data": {
      "text/plain": [
       "'[{\"y\":105,\"x\":\"双创载体\"},{\"y\":111,\"x\":\"投资机构\"},{\"y\":235,\"x\":\"双创企业\"}]'"
      ]
     },
     "execution_count": 76,
     "metadata": {},
     "output_type": "execute_result"
    }
   ],
   "source": [
    "html"
   ]
  },
  {
   "cell_type": "code",
   "execution_count": 77,
   "metadata": {},
   "outputs": [],
   "source": [
    "html_dict = json.loads(html)"
   ]
  },
  {
   "cell_type": "markdown",
   "metadata": {},
   "source": [
    "注意：要这步有效，urlopen(url)中的ｕｒｌ必须返回的是json"
   ]
  },
  {
   "cell_type": "code",
   "execution_count": 81,
   "metadata": {},
   "outputs": [
    {
     "data": {
      "text/plain": [
       "[{'x': '双创载体', 'y': 105}, {'x': '投资机构', 'y': 111}, {'x': '双创企业', 'y': 235}]"
      ]
     },
     "execution_count": 81,
     "metadata": {},
     "output_type": "execute_result"
    }
   ],
   "source": [
    "html_dict"
   ]
  },
  {
   "cell_type": "code",
   "execution_count": 83,
   "metadata": {},
   "outputs": [
    {
     "data": {
      "text/plain": [
       "list"
      ]
     },
     "execution_count": 83,
     "metadata": {},
     "output_type": "execute_result"
    }
   ],
   "source": [
    "type(html_dict)"
   ]
  },
  {
   "cell_type": "code",
   "execution_count": 87,
   "metadata": {},
   "outputs": [
    {
     "data": {
      "text/plain": [
       "'双创载体'"
      ]
     },
     "execution_count": 87,
     "metadata": {},
     "output_type": "execute_result"
    }
   ],
   "source": [
    "html_dict[0]['x']"
   ]
  },
  {
   "cell_type": "code",
   "execution_count": 88,
   "metadata": {},
   "outputs": [
    {
     "data": {
      "text/plain": [
       "235"
      ]
     },
     "execution_count": 88,
     "metadata": {},
     "output_type": "execute_result"
    }
   ],
   "source": [
    "html_dict[2]['y']"
   ]
  },
  {
   "cell_type": "markdown",
   "metadata": {},
   "source": [
    "## 例子：利用有道翻译进行在线翻译\n",
    "参考： [有道智云 常用语言 Demo](http://ai.youdao.com/docs/doc-trans-api.s#p08)\n",
    "\n",
    "[Python中urlopen()介绍](https://www.cnblogs.com/zyq-blog/p/5606760.html)"
   ]
  },
  {
   "cell_type": "markdown",
   "metadata": {},
   "source": [
    "注意：`data = urllib.parse.urlencode(data).encode('utf-8')` \n",
    "data必须符合标准the standard application/x-www-form-urlencoded format，怎么得到这种标准结构的data呢？使用urllib.parse.urlencode()将自定义的data转换成\n",
    "标准格式，而这个函数所能接收的参数类型是pyhon中的mapping object（键/值对，如dict） or a sequence of two-element tuples（元素是tuple的列表）。"
   ]
  },
  {
   "cell_type": "markdown",
   "metadata": {},
   "source": [
    "# Python读取文本，输出指定中文（字符串）"
   ]
  },
  {
   "cell_type": "markdown",
   "metadata": {},
   "source": [
    "因业务需求，需要提取文本中带有检查字样的每一行。\n",
    "样本：\n",
    "\n"
   ]
  },
  {
   "cell_type": "markdown",
   "metadata": {},
   "source": [
    "```\n",
    "1 投入10kVB、C母分段820闭锁备自投压板   \n",
    "2 退出10kVB、C母分段820备投跳803压板   \n",
    "3 退出10kVB、C母分段820备投合820压板   \n",
    "4 检查2、3号主变压器分头位置一致   \n",
    "5 合上820断路器   \n",
    "6 检查820断路器确带负荷   \n",
    "7 检查2号、3号主变压器负荷分配正常   \n",
    "8 拉开802断路器   \n",
    "9 检查802断路器在分闸位置   \n",
    "10 检查3号主变压器不过负荷   \n",
    "```"
   ]
  },
  {
   "cell_type": "markdown",
   "metadata": {},
   "source": [
    "思路：一种思路是直接用正则找出检查，按照样本可以这样写：\\d{1,2}\\s检查，属于一劳永逸的写法。还有一种就是下面比较裸的写法，先用python的readlines()方法读取文本的每一行，再用 u'检查'判断带有‘检查’的每一行，这种方法比较麻烦的地方就是还需要去掉样本中的序号，def func()就是用来解决这个问题的。"
   ]
  },
  {
   "cell_type": "code",
   "execution_count": 10,
   "metadata": {},
   "outputs": [],
   "source": [
    "import re  # 正则\n",
    "import codecs #用作编码转换\n",
    "\n",
    "f = codecs.open('data/content.txt','r','utf-8')\n",
    "s = f.readlines()"
   ]
  },
  {
   "cell_type": "code",
   "execution_count": 11,
   "metadata": {},
   "outputs": [
    {
     "data": {
      "text/plain": [
       "['1 投入10kVB、C母分段820闭锁备自投压板   \\n',\n",
       " '2 退出10kVB、C母分段820备投跳803压板   \\n',\n",
       " '3 退出10kVB、C母分段820备投合820压板   \\n',\n",
       " '4 检查2、3号主变压器分头位置一致   \\n',\n",
       " '5 合上820断路器   \\n',\n",
       " '6 检查820断路器确带负荷   \\n',\n",
       " '7 检查2号、3号主变压器负荷分配正常   \\n',\n",
       " '8 拉开802断路器   \\n',\n",
       " '9 检查802断路器在分闸位置   \\n',\n",
       " '10 检查3号主变压器不过负荷\\n']"
      ]
     },
     "execution_count": 11,
     "metadata": {},
     "output_type": "execute_result"
    }
   ],
   "source": [
    "s"
   ]
  },
  {
   "cell_type": "code",
   "execution_count": 12,
   "metadata": {},
   "outputs": [],
   "source": [
    "f.flush()"
   ]
  },
  {
   "cell_type": "code",
   "execution_count": 13,
   "metadata": {},
   "outputs": [],
   "source": [
    "f.close()"
   ]
  },
  {
   "cell_type": "code",
   "execution_count": 21,
   "metadata": {},
   "outputs": [
    {
     "name": "stdout",
     "output_type": "stream",
     "text": [
      "['检查2、3号主变压器分头位置一致   ']\n",
      "['检查820断路器确带负荷   ']\n",
      "['检查2号、3号主变压器负荷分配正常   ']\n",
      "['检查802断路器在分闸位置   ']\n",
      "['检查3号主变压器不过负荷']\n"
     ]
    }
   ],
   "source": [
    "for fileLine in s:\n",
    "    if u'检查' in fileLine:\n",
    "        line_pattern = r'\\s*\\d+\\s?(.*)'\n",
    "        test = []\n",
    "        def func(text):\n",
    "            c = re.compile(line_pattern)\n",
    "            lists = []\n",
    "            lines = text.split('\\n')\n",
    "            for line in lines:\n",
    "                r = c.findall(line)\n",
    "                if r:\n",
    "                    lists.append(r[0])\n",
    "            return '\\n'.join(lists)\n",
    "        result = func(fileLine)\n",
    "        test.append(result)\n",
    "        print(test)"
   ]
  },
  {
   "cell_type": "code",
   "execution_count": 17,
   "metadata": {},
   "outputs": [
    {
     "data": {
      "text/plain": [
       "'检查3号主变压器不过负荷'"
      ]
     },
     "execution_count": 17,
     "metadata": {},
     "output_type": "execute_result"
    }
   ],
   "source": [
    "result"
   ]
  },
  {
   "cell_type": "code",
   "execution_count": 18,
   "metadata": {},
   "outputs": [
    {
     "data": {
      "text/plain": [
       "'检查3号主变压器不过负荷'"
      ]
     },
     "execution_count": 18,
     "metadata": {},
     "output_type": "execute_result"
    }
   ],
   "source": [
    "result"
   ]
  },
  {
   "cell_type": "code",
   "execution_count": 19,
   "metadata": {},
   "outputs": [
    {
     "name": "stdout",
     "output_type": "stream",
     "text": [
      "检查3号主变压器不过负荷\n"
     ]
    }
   ],
   "source": [
    "print(result)"
   ]
  },
  {
   "cell_type": "markdown",
   "metadata": {},
   "source": [
    "**当然我们还可以新建一个list，用append方法将for循环出来的结果整合到一起：**"
   ]
  },
  {
   "cell_type": "markdown",
   "metadata": {},
   "source": [
    "```\n",
    "test = []\n",
    "'''\n",
    "'''\n",
    "'''\n",
    "test.append(result)\n",
    "print test\n",
    "\n",
    "```"
   ]
  },
  {
   "cell_type": "code",
   "execution_count": null,
   "metadata": {},
   "outputs": [],
   "source": []
  }
 ],
 "metadata": {
  "kernelspec": {
   "display_name": "Python 3",
   "language": "python",
   "name": "python3"
  },
  "language_info": {
   "codemirror_mode": {
    "name": "ipython",
    "version": 3
   },
   "file_extension": ".py",
   "mimetype": "text/x-python",
   "name": "python",
   "nbconvert_exporter": "python",
   "pygments_lexer": "ipython3",
   "version": "3.5.2"
  }
 },
 "nbformat": 4,
 "nbformat_minor": 2
}
