{
 "cells": [
  {
   "cell_type": "markdown",
   "metadata": {},
   "source": [
    "# 教程&文章"
   ]
  },
  {
   "cell_type": "markdown",
   "metadata": {},
   "source": [
    "# quickstart"
   ]
  },
  {
   "cell_type": "markdown",
   "metadata": {},
   "source": [
    "```\n",
    "pip3 install scrapy\n",
    "\n",
    "```"
   ]
  },
  {
   "cell_type": "code",
   "execution_count": 5,
   "metadata": {},
   "outputs": [],
   "source": [
    "import scrapy"
   ]
  },
  {
   "cell_type": "code",
   "execution_count": 6,
   "metadata": {},
   "outputs": [],
   "source": [
    "from scrapy.crawler import CrawlerProcess"
   ]
  },
  {
   "cell_type": "code",
   "execution_count": 7,
   "metadata": {},
   "outputs": [],
   "source": [
    "from scrapy.selector import Selector"
   ]
  },
  {
   "cell_type": "code",
   "execution_count": 11,
   "metadata": {},
   "outputs": [],
   "source": [
    "base_url = 'http://www.dianping.com/shanghai/ch10/o3p3'"
   ]
  },
  {
   "cell_type": "code",
   "execution_count": null,
   "metadata": {},
   "outputs": [],
   "source": [
    "class RestaurantSpider (scrapy.Spider):\n",
    "    name = 'restaurants'\n",
    "    \n",
    "    start_urls = [base_url + 'p' + str(page) for page in range(1,51)]\n",
    "    #     start_urls = [\n",
    "    #         'http://www.dianping.com/search/category/1/10/o3',\n",
    "    #     ]\n",
    "    \n",
    "    def parse(self, response):\n",
    "        selector = Selector(response)\n",
    "        div = selector.xpath('//div[@id=\"shop-all-list\"]/ul/li')\n",
    "        for dd in div:\n",
    "            title = dd.xpath('div[2]/div[1]/a[1]/h4/text()').extract_first()\n",
    "            image_url = dd.css('.pic img::attr(data-src)').extract_first()\n",
    "            shopurls = dd.xpath('div[2]/div[1]/a[1]/@href').extract()\n",
    "            url = 'http://www.dianping.com'+str(shopurls[0])\n",
    "\n",
    "            branch = dd.xpath('div[2]/div[1]/a[2]/text()').extract_first()\n",
    "\n",
    "            ratings_num = int(dd.xpath('div[2]/div[2]/a[1]/b/text()').extract_first())\n",
    "            price = dd.xpath('div[2]/div[2]/a[2]/b/text()').extract_first()\n",
    "\n",
    "            taste = float(dd.xpath('div[2]/span/span[1]/b/text()').extract_first())\n",
    "            environment = float(dd.xpath('div[2]/span/span[2]/b/text()').extract_first())\n",
    "            service = float(dd.xpath('div[2]/span/span[3]/b/text()').extract_first())\n",
    "\n",
    "            foodtype = dd.xpath('div[2]/div[3]/a[1]/span/text()').extract_first()\n",
    "            location = dd.xpath('div[2]/div[3]/a[2]/span/text()').extract_first()\n",
    "            address = dd.xpath('div[2]/div[3]/span[1]/text()').extract_first()\n",
    "\n",
    "            yield {\n",
    "                'title': title,\n",
    "                'image_url': image_url,\n",
    "                'url': url,\n",
    "                'ratings_num': ratings_num,\n",
    "                'branch': branch, \n",
    "                'price': price,\n",
    "                'taste': taste,\n",
    "                'environment': environment,\n",
    "                'service': service,\n",
    "                'type': foodtype,\n",
    "                'location': location,\n",
    "                'address': address\n",
    "            }"
   ]
  },
  {
   "cell_type": "code",
   "execution_count": null,
   "metadata": {},
   "outputs": [],
   "source": [
    "\n",
    "process = CrawlerProcess({\n",
    "    'USER_AGENT': 'Mozilla/4.0 (compatible; MSIE 7.0; Windows NT 5.1)',\n",
    "    'FEED_FORMAT': 'json',\n",
    "    'FEED_URI': 'jiading.json',\n",
    "    'FEED_EXPORT_ENCODING':'utf-8',\n",
    "    'COOKIES_ENABLED': False,\n",
    "    'DOWNLOAD_DELAY': 3,\n",
    "})\n",
    "\n",
    "process.crawl(RestaurantSpider)\n",
    "process.start()"
   ]
  },
  {
   "cell_type": "markdown",
   "metadata": {},
   "source": []
  },
  {
   "cell_type": "code",
   "execution_count": null,
   "metadata": {},
   "outputs": [],
   "source": []
  }
 ],
 "metadata": {
  "kernelspec": {
   "display_name": "Python 3",
   "language": "python",
   "name": "python3"
  },
  "language_info": {
   "codemirror_mode": {
    "name": "ipython",
    "version": 3
   },
   "file_extension": ".py",
   "mimetype": "text/x-python",
   "name": "python",
   "nbconvert_exporter": "python",
   "pygments_lexer": "ipython3",
   "version": "3.5.2"
  }
 },
 "nbformat": 4,
 "nbformat_minor": 2
}
